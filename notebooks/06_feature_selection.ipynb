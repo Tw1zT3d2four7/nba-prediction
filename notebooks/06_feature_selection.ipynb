{
 "cells": [
  {
   "cell_type": "markdown",
   "id": "ea2619eb-c30b-457d-abfa-a7b4b4dd584c",
   "metadata": {},
   "source": [
    "## Feature Selection"
   ]
  },
  {
   "cell_type": "code",
   "execution_count": 1,
   "id": "f71632a1-ef6a-4404-b662-e8227de30fa1",
   "metadata": {},
   "outputs": [],
   "source": [
    "import pandas as pd\n",
    "import numpy as np\n",
    "\n",
    "pd.set_option('display.max_columns', 500)\n",
    "\n",
    "from sklearn.feature_selection import SelectKBest, chi2\n",
    "\n",
    "\n",
    "import matplotlib.pyplot as plt\n",
    "import seaborn as sns\n",
    "\n",
    "from pathlib import Path  #for Windows/Linux compatibility\n",
    "DATAPATH = Path(r'data')\n"
   ]
  },
  {
   "cell_type": "code",
   "execution_count": 2,
   "id": "d4aabdeb-0167-490e-bc37-65a62f7c0821",
   "metadata": {},
   "outputs": [],
   "source": [
    "train = pd.read_csv(DATAPATH / \"train_features.csv\")\n",
    "test = pd.read_csv(DATAPATH / \"test_features.csv\")\n"
   ]
  },
  {
   "cell_type": "code",
   "execution_count": 4,
   "id": "2d3c9ab6-9a07-46c5-8d57-d75df3171036",
   "metadata": {},
   "outputs": [],
   "source": [
    "train.to_csv(DATAPATH / \"train_selected.csv\",index=False)\n",
    "test.to_csv(DATAPATH / \"test_selected.csv\",index=False)"
   ]
  }
 ],
 "metadata": {
  "kernelspec": {
   "display_name": "Python 3 (ipykernel)",
   "language": "python",
   "name": "python3"
  },
  "language_info": {
   "codemirror_mode": {
    "name": "ipython",
    "version": 3
   },
   "file_extension": ".py",
   "mimetype": "text/x-python",
   "name": "python",
   "nbconvert_exporter": "python",
   "pygments_lexer": "ipython3",
   "version": "3.9.13"
  }
 },
 "nbformat": 4,
 "nbformat_minor": 5
}
