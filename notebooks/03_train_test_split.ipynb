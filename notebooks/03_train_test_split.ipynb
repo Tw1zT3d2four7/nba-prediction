{
 "cells": [
  {
   "cell_type": "markdown",
   "id": "defc34ab-7465-454b-a148-f18f857eafaa",
   "metadata": {},
   "source": [
    "### Train / Test Split\n",
    "\n",
    "This notebook splits the data into train data and test data.\n",
    "\n",
    "It selects the latest season and uses this as the test data."
   ]
  },
  {
   "cell_type": "code",
   "execution_count": 1,
   "id": "f270d24d-731b-4a33-a737-599871c1b024",
   "metadata": {},
   "outputs": [],
   "source": [
    "import pandas as pd\n",
    "import numpy as np\n",
    "\n",
    "from pathlib import Path  #for Windows/Linux compatibility\n",
    "DATAPATH = Path(r'data')\n"
   ]
  },
  {
   "cell_type": "code",
   "execution_count": 2,
   "id": "45005c7b-e29c-48cc-adf2-47b4cf6a7863",
   "metadata": {},
   "outputs": [],
   "source": [
    "df = pd.read_csv(DATAPATH / \"transformed.csv\")"
   ]
  },
  {
   "cell_type": "markdown",
   "id": "2ddfe2f2-e69e-4f41-a047-87e2caee29f7",
   "metadata": {},
   "source": [
    "**Split Data to Train and Test**"
   ]
  },
  {
   "cell_type": "code",
   "execution_count": 3,
   "id": "2ec58305-22d8-4e01-ad13-a6052967fb43",
   "metadata": {},
   "outputs": [],
   "source": [
    "latest_season = df['SEASON'].unique().max()\n",
    "\n",
    "train = df[df['SEASON'] < (latest_season)]\n",
    "test = df[df['SEASON'] >= (latest_season - 1)]\n",
    "\n",
    "train.to_csv(DATAPATH / \"train.csv\",index=False)\n",
    "test.to_csv(DATAPATH / \"test.csv\",index=False)\n"
   ]
  }
 ],
 "metadata": {
  "kernelspec": {
   "display_name": "nba3",
   "language": "python",
   "name": "python3"
  },
  "language_info": {
   "codemirror_mode": {
    "name": "ipython",
    "version": 3
   },
   "file_extension": ".py",
   "mimetype": "text/x-python",
   "name": "python",
   "nbconvert_exporter": "python",
   "pygments_lexer": "ipython3",
   "version": "3.9.13 (tags/v3.9.13:6de2ca5, May 17 2022, 16:36:42) [MSC v.1929 64 bit (AMD64)]"
  },
  "vscode": {
   "interpreter": {
    "hash": "4655998f62ad965cbd25df51edb717f2326f5df53d53899f0ae604225aa5ae06"
   }
  }
 },
 "nbformat": 4,
 "nbformat_minor": 5
}
